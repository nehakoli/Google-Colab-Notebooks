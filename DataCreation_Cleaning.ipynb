{
  "cells": [
    {
      "cell_type": "markdown",
      "source": [
        "# Data Creation & Cleaning"
      ],
      "metadata": {
        "id": "LLme9e7BaKjl"
      },
      "id": "LLme9e7BaKjl"
    },
    {
      "cell_type": "code",
      "execution_count": null,
      "id": "40341f6c",
      "metadata": {
        "id": "40341f6c"
      },
      "outputs": [],
      "source": [
        "import pandas as pd"
      ]
    },
    {
      "cell_type": "markdown",
      "source": [
        "Load the Excel file containing churn data into a DataFrame"
      ],
      "metadata": {
        "id": "n7Ny8QYyb14N"
      },
      "id": "n7Ny8QYyb14N"
    },
    {
      "cell_type": "code",
      "source": [
        "from google.colab import files\n",
        "uploaded = files.upload()"
      ],
      "metadata": {
        "colab": {
          "base_uri": "https://localhost:8080/",
          "height": 73
        },
        "id": "sTvTyFZfb7Su",
        "outputId": "b17de7ca-0015-46bd-88c7-6a2fd4d2bf38"
      },
      "id": "sTvTyFZfb7Su",
      "execution_count": null,
      "outputs": [
        {
          "output_type": "display_data",
          "data": {
            "text/plain": [
              "<IPython.core.display.HTML object>"
            ],
            "text/html": [
              "\n",
              "     <input type=\"file\" id=\"files-7178015c-511d-4bf6-82f2-2dda70b70369\" name=\"files[]\" multiple disabled\n",
              "        style=\"border:none\" />\n",
              "     <output id=\"result-7178015c-511d-4bf6-82f2-2dda70b70369\">\n",
              "      Upload widget is only available when the cell has been executed in the\n",
              "      current browser session. Please rerun this cell to enable.\n",
              "      </output>\n",
              "      <script>// Copyright 2017 Google LLC\n",
              "//\n",
              "// Licensed under the Apache License, Version 2.0 (the \"License\");\n",
              "// you may not use this file except in compliance with the License.\n",
              "// You may obtain a copy of the License at\n",
              "//\n",
              "//      http://www.apache.org/licenses/LICENSE-2.0\n",
              "//\n",
              "// Unless required by applicable law or agreed to in writing, software\n",
              "// distributed under the License is distributed on an \"AS IS\" BASIS,\n",
              "// WITHOUT WARRANTIES OR CONDITIONS OF ANY KIND, either express or implied.\n",
              "// See the License for the specific language governing permissions and\n",
              "// limitations under the License.\n",
              "\n",
              "/**\n",
              " * @fileoverview Helpers for google.colab Python module.\n",
              " */\n",
              "(function(scope) {\n",
              "function span(text, styleAttributes = {}) {\n",
              "  const element = document.createElement('span');\n",
              "  element.textContent = text;\n",
              "  for (const key of Object.keys(styleAttributes)) {\n",
              "    element.style[key] = styleAttributes[key];\n",
              "  }\n",
              "  return element;\n",
              "}\n",
              "\n",
              "// Max number of bytes which will be uploaded at a time.\n",
              "const MAX_PAYLOAD_SIZE = 100 * 1024;\n",
              "\n",
              "function _uploadFiles(inputId, outputId) {\n",
              "  const steps = uploadFilesStep(inputId, outputId);\n",
              "  const outputElement = document.getElementById(outputId);\n",
              "  // Cache steps on the outputElement to make it available for the next call\n",
              "  // to uploadFilesContinue from Python.\n",
              "  outputElement.steps = steps;\n",
              "\n",
              "  return _uploadFilesContinue(outputId);\n",
              "}\n",
              "\n",
              "// This is roughly an async generator (not supported in the browser yet),\n",
              "// where there are multiple asynchronous steps and the Python side is going\n",
              "// to poll for completion of each step.\n",
              "// This uses a Promise to block the python side on completion of each step,\n",
              "// then passes the result of the previous step as the input to the next step.\n",
              "function _uploadFilesContinue(outputId) {\n",
              "  const outputElement = document.getElementById(outputId);\n",
              "  const steps = outputElement.steps;\n",
              "\n",
              "  const next = steps.next(outputElement.lastPromiseValue);\n",
              "  return Promise.resolve(next.value.promise).then((value) => {\n",
              "    // Cache the last promise value to make it available to the next\n",
              "    // step of the generator.\n",
              "    outputElement.lastPromiseValue = value;\n",
              "    return next.value.response;\n",
              "  });\n",
              "}\n",
              "\n",
              "/**\n",
              " * Generator function which is called between each async step of the upload\n",
              " * process.\n",
              " * @param {string} inputId Element ID of the input file picker element.\n",
              " * @param {string} outputId Element ID of the output display.\n",
              " * @return {!Iterable<!Object>} Iterable of next steps.\n",
              " */\n",
              "function* uploadFilesStep(inputId, outputId) {\n",
              "  const inputElement = document.getElementById(inputId);\n",
              "  inputElement.disabled = false;\n",
              "\n",
              "  const outputElement = document.getElementById(outputId);\n",
              "  outputElement.innerHTML = '';\n",
              "\n",
              "  const pickedPromise = new Promise((resolve) => {\n",
              "    inputElement.addEventListener('change', (e) => {\n",
              "      resolve(e.target.files);\n",
              "    });\n",
              "  });\n",
              "\n",
              "  const cancel = document.createElement('button');\n",
              "  inputElement.parentElement.appendChild(cancel);\n",
              "  cancel.textContent = 'Cancel upload';\n",
              "  const cancelPromise = new Promise((resolve) => {\n",
              "    cancel.onclick = () => {\n",
              "      resolve(null);\n",
              "    };\n",
              "  });\n",
              "\n",
              "  // Wait for the user to pick the files.\n",
              "  const files = yield {\n",
              "    promise: Promise.race([pickedPromise, cancelPromise]),\n",
              "    response: {\n",
              "      action: 'starting',\n",
              "    }\n",
              "  };\n",
              "\n",
              "  cancel.remove();\n",
              "\n",
              "  // Disable the input element since further picks are not allowed.\n",
              "  inputElement.disabled = true;\n",
              "\n",
              "  if (!files) {\n",
              "    return {\n",
              "      response: {\n",
              "        action: 'complete',\n",
              "      }\n",
              "    };\n",
              "  }\n",
              "\n",
              "  for (const file of files) {\n",
              "    const li = document.createElement('li');\n",
              "    li.append(span(file.name, {fontWeight: 'bold'}));\n",
              "    li.append(span(\n",
              "        `(${file.type || 'n/a'}) - ${file.size} bytes, ` +\n",
              "        `last modified: ${\n",
              "            file.lastModifiedDate ? file.lastModifiedDate.toLocaleDateString() :\n",
              "                                    'n/a'} - `));\n",
              "    const percent = span('0% done');\n",
              "    li.appendChild(percent);\n",
              "\n",
              "    outputElement.appendChild(li);\n",
              "\n",
              "    const fileDataPromise = new Promise((resolve) => {\n",
              "      const reader = new FileReader();\n",
              "      reader.onload = (e) => {\n",
              "        resolve(e.target.result);\n",
              "      };\n",
              "      reader.readAsArrayBuffer(file);\n",
              "    });\n",
              "    // Wait for the data to be ready.\n",
              "    let fileData = yield {\n",
              "      promise: fileDataPromise,\n",
              "      response: {\n",
              "        action: 'continue',\n",
              "      }\n",
              "    };\n",
              "\n",
              "    // Use a chunked sending to avoid message size limits. See b/62115660.\n",
              "    let position = 0;\n",
              "    do {\n",
              "      const length = Math.min(fileData.byteLength - position, MAX_PAYLOAD_SIZE);\n",
              "      const chunk = new Uint8Array(fileData, position, length);\n",
              "      position += length;\n",
              "\n",
              "      const base64 = btoa(String.fromCharCode.apply(null, chunk));\n",
              "      yield {\n",
              "        response: {\n",
              "          action: 'append',\n",
              "          file: file.name,\n",
              "          data: base64,\n",
              "        },\n",
              "      };\n",
              "\n",
              "      let percentDone = fileData.byteLength === 0 ?\n",
              "          100 :\n",
              "          Math.round((position / fileData.byteLength) * 100);\n",
              "      percent.textContent = `${percentDone}% done`;\n",
              "\n",
              "    } while (position < fileData.byteLength);\n",
              "  }\n",
              "\n",
              "  // All done.\n",
              "  yield {\n",
              "    response: {\n",
              "      action: 'complete',\n",
              "    }\n",
              "  };\n",
              "}\n",
              "\n",
              "scope.google = scope.google || {};\n",
              "scope.google.colab = scope.google.colab || {};\n",
              "scope.google.colab._files = {\n",
              "  _uploadFiles,\n",
              "  _uploadFilesContinue,\n",
              "};\n",
              "})(self);\n",
              "</script> "
            ]
          },
          "metadata": {}
        },
        {
          "output_type": "stream",
          "name": "stdout",
          "text": [
            "Saving Churn Sample Data.csv to Churn Sample Data (2).csv\n"
          ]
        }
      ]
    },
    {
      "cell_type": "code",
      "execution_count": null,
      "id": "d58db0c0",
      "metadata": {
        "id": "d58db0c0",
        "colab": {
          "base_uri": "https://localhost:8080/"
        },
        "outputId": "f248ce32-c14b-438e-8419-dfa1d4e6d56c"
      },
      "outputs": [
        {
          "output_type": "stream",
          "name": "stdout",
          "text": [
            "      CUST_ID DIGITALUSAGE        Customer Profile Customer marital status  \\\n",
            "0           1            Y           SELF EMPLOYED                   MARID   \n",
            "1           2            Y                 STUDENT                   SINGL   \n",
            "2           3            N                 STUDENT                   MARID   \n",
            "3           4            Y                  OTHERS                   OTHRS   \n",
            "4           5            Y                BUSINESS                   SINGL   \n",
            "...       ...          ...                     ...                     ...   \n",
            "9994     9995            Y                BUSINESS                   SINGL   \n",
            "9995     9996            N  PRIVATE SECTOR SERVICE                   SINGL   \n",
            "9996     9997            Y                 STUDENT                   SINGL   \n",
            "9997     9998            N  PRIVATE SECTOR SERVICE                   MARID   \n",
            "9998     9999            Y           SELF EMPLOYED                   MARID   \n",
            "\n",
            "     Customer State Senior citizen indicator Customer status NetBanking Usage  \\\n",
            "0                TN                        N               N               No   \n",
            "1                TS                        N               N               No   \n",
            "2                KL                        N               N               No   \n",
            "3                KA                        N               N               No   \n",
            "4                KL                        N               N               No   \n",
            "...             ...                      ...             ...              ...   \n",
            "9994             KL                        N               N               No   \n",
            "9995             OR                        N               N               No   \n",
            "9996             TN                        N               N               No   \n",
            "9997             AP                        N               N               No   \n",
            "9998             TS                        N               N               No   \n",
            "\n",
            "     Debit card usage Cheque book Issued  ... No:of cases resolved  \\\n",
            "0                 Yes                  Y  ...                    0   \n",
            "1                 Yes                  Y  ...                    0   \n",
            "2                 Yes                  Y  ...                    0   \n",
            "3                  No                  Y  ...                    0   \n",
            "4                 Yes                  Y  ...                    0   \n",
            "...               ...                ...  ...                  ...   \n",
            "9994              Yes                  Y  ...                    0   \n",
            "9995              Yes                  Y  ...                    0   \n",
            "9996              Yes                  Y  ...                    0   \n",
            "9997               No                  N  ...                    0   \n",
            "9998              Yes                  Y  ...                    0   \n",
            "\n",
            "      Maximum response in days  Minimum response in days  \\\n",
            "0                            0                         0   \n",
            "1                            0                         0   \n",
            "2                            0                         0   \n",
            "3                            0                         0   \n",
            "4                            0                         0   \n",
            "...                        ...                       ...   \n",
            "9994                         0                         0   \n",
            "9995                         0                         0   \n",
            "9996                         0                         0   \n",
            "9997                         0                         0   \n",
            "9998                         0                         0   \n",
            "\n",
            "      Transfer of funds above 2 lakhs through any channel  SBACCOUNTSTATUS  \\\n",
            "0                                                     0             Active   \n",
            "1                                                     0             Active   \n",
            "2                                                     0             Active   \n",
            "3                                                     0             Active   \n",
            "4                                                     0             Active   \n",
            "...                                                 ...                ...   \n",
            "9994                                                  0             Active   \n",
            "9995                                                  0             Active   \n",
            "9996                                                  0             Active   \n",
            "9997                                                  0         No Account   \n",
            "9998                                                  0         No Account   \n",
            "\n",
            "      CAACCOUNTSTATUS  ODACCOUNTSTATUS  CCACCOUNTSTATUS  \\\n",
            "0          No Account       No Account       No Account   \n",
            "1          No Account       No Account       No Account   \n",
            "2          No Account       No Account       No Account   \n",
            "3          No Account       No Account       No Account   \n",
            "4          No Account       No Account       No Account   \n",
            "...               ...              ...              ...   \n",
            "9994       No Account       No Account       No Account   \n",
            "9995       No Account       No Account       No Account   \n",
            "9996       No Account       No Account       No Account   \n",
            "9997       No Account       No Account       No Account   \n",
            "9998           Active       No Account       No Account   \n",
            "\n",
            "      Working capital LIMITS NOT UTILIZED     CLTV  \n",
            "0                                     NaN -6274.72  \n",
            "1                                     NaN -5052.50  \n",
            "2                                     NaN -2912.57  \n",
            "3                                     NaN -8663.10  \n",
            "4                                     NaN -5848.19  \n",
            "...                                   ...      ...  \n",
            "9994                                  NaN -5848.19  \n",
            "9995                                  NaN -3029.46  \n",
            "9996                                  NaN -4032.34  \n",
            "9997                                  NaN     0.00  \n",
            "9998                                  NaN -1850.29  \n",
            "\n",
            "[9999 rows x 52 columns]\n"
          ]
        }
      ],
      "source": [
        "df = pd.read_csv(\"Churn Sample Data.csv\")\n",
        "\n",
        "# Print the original dataset\n",
        "print(df)"
      ]
    },
    {
      "cell_type": "markdown",
      "source": [
        "Set how many times to duplicate the original dataset"
      ],
      "metadata": {
        "id": "cMXEV202clZP"
      },
      "id": "cMXEV202clZP"
    },
    {
      "cell_type": "code",
      "execution_count": null,
      "id": "262bf6fa",
      "metadata": {
        "id": "262bf6fa"
      },
      "outputs": [],
      "source": [
        "num_copies = 100"
      ]
    },
    {
      "cell_type": "markdown",
      "source": [
        "Duplicate the original DataFrame 'df' 100 times and reset the index"
      ],
      "metadata": {
        "id": "Yxjjnzt5cpEk"
      },
      "id": "Yxjjnzt5cpEk"
    },
    {
      "cell_type": "code",
      "execution_count": null,
      "id": "75af822e",
      "metadata": {
        "id": "75af822e",
        "colab": {
          "base_uri": "https://localhost:8080/"
        },
        "outputId": "389e97aa-be08-4926-f0e1-52256f20215a"
      },
      "outputs": [
        {
          "output_type": "stream",
          "name": "stdout",
          "text": [
            "        CUST_ID DIGITALUSAGE        Customer Profile Customer marital status  \\\n",
            "0             1            Y           SELF EMPLOYED                   MARID   \n",
            "1             2            Y                 STUDENT                   SINGL   \n",
            "2             3            N                 STUDENT                   MARID   \n",
            "3             4            Y                  OTHERS                   OTHRS   \n",
            "4             5            Y                BUSINESS                   SINGL   \n",
            "...         ...          ...                     ...                     ...   \n",
            "999895     9995            Y                BUSINESS                   SINGL   \n",
            "999896     9996            N  PRIVATE SECTOR SERVICE                   SINGL   \n",
            "999897     9997            Y                 STUDENT                   SINGL   \n",
            "999898     9998            N  PRIVATE SECTOR SERVICE                   MARID   \n",
            "999899     9999            Y           SELF EMPLOYED                   MARID   \n",
            "\n",
            "       Customer State Senior citizen indicator Customer status  \\\n",
            "0                  TN                        N               N   \n",
            "1                  TS                        N               N   \n",
            "2                  KL                        N               N   \n",
            "3                  KA                        N               N   \n",
            "4                  KL                        N               N   \n",
            "...               ...                      ...             ...   \n",
            "999895             KL                        N               N   \n",
            "999896             OR                        N               N   \n",
            "999897             TN                        N               N   \n",
            "999898             AP                        N               N   \n",
            "999899             TS                        N               N   \n",
            "\n",
            "       NetBanking Usage Debit card usage Cheque book Issued  ...  \\\n",
            "0                    No              Yes                  Y  ...   \n",
            "1                    No              Yes                  Y  ...   \n",
            "2                    No              Yes                  Y  ...   \n",
            "3                    No               No                  Y  ...   \n",
            "4                    No              Yes                  Y  ...   \n",
            "...                 ...              ...                ...  ...   \n",
            "999895               No              Yes                  Y  ...   \n",
            "999896               No              Yes                  Y  ...   \n",
            "999897               No              Yes                  Y  ...   \n",
            "999898               No               No                  N  ...   \n",
            "999899               No              Yes                  Y  ...   \n",
            "\n",
            "       No:of cases resolved  Maximum response in days  \\\n",
            "0                         0                         0   \n",
            "1                         0                         0   \n",
            "2                         0                         0   \n",
            "3                         0                         0   \n",
            "4                         0                         0   \n",
            "...                     ...                       ...   \n",
            "999895                    0                         0   \n",
            "999896                    0                         0   \n",
            "999897                    0                         0   \n",
            "999898                    0                         0   \n",
            "999899                    0                         0   \n",
            "\n",
            "        Minimum response in days  \\\n",
            "0                              0   \n",
            "1                              0   \n",
            "2                              0   \n",
            "3                              0   \n",
            "4                              0   \n",
            "...                          ...   \n",
            "999895                         0   \n",
            "999896                         0   \n",
            "999897                         0   \n",
            "999898                         0   \n",
            "999899                         0   \n",
            "\n",
            "        Transfer of funds above 2 lakhs through any channel  SBACCOUNTSTATUS  \\\n",
            "0                                                       0             Active   \n",
            "1                                                       0             Active   \n",
            "2                                                       0             Active   \n",
            "3                                                       0             Active   \n",
            "4                                                       0             Active   \n",
            "...                                                   ...                ...   \n",
            "999895                                                  0             Active   \n",
            "999896                                                  0             Active   \n",
            "999897                                                  0             Active   \n",
            "999898                                                  0         No Account   \n",
            "999899                                                  0         No Account   \n",
            "\n",
            "        CAACCOUNTSTATUS  ODACCOUNTSTATUS  CCACCOUNTSTATUS  \\\n",
            "0            No Account       No Account       No Account   \n",
            "1            No Account       No Account       No Account   \n",
            "2            No Account       No Account       No Account   \n",
            "3            No Account       No Account       No Account   \n",
            "4            No Account       No Account       No Account   \n",
            "...                 ...              ...              ...   \n",
            "999895       No Account       No Account       No Account   \n",
            "999896       No Account       No Account       No Account   \n",
            "999897       No Account       No Account       No Account   \n",
            "999898       No Account       No Account       No Account   \n",
            "999899           Active       No Account       No Account   \n",
            "\n",
            "        Working capital LIMITS NOT UTILIZED     CLTV  \n",
            "0                                       NaN -6274.72  \n",
            "1                                       NaN -5052.50  \n",
            "2                                       NaN -2912.57  \n",
            "3                                       NaN -8663.10  \n",
            "4                                       NaN -5848.19  \n",
            "...                                     ...      ...  \n",
            "999895                                  NaN -5848.19  \n",
            "999896                                  NaN -3029.46  \n",
            "999897                                  NaN -4032.34  \n",
            "999898                                  NaN     0.00  \n",
            "999899                                  NaN -1850.29  \n",
            "\n",
            "[999900 rows x 52 columns]\n"
          ]
        }
      ],
      "source": [
        "df_copies = pd.concat([df] * num_copies, ignore_index=True)\n",
        "\n",
        "# Print the expanded dataset\n",
        "print(df_copies)"
      ]
    },
    {
      "cell_type": "markdown",
      "source": [
        "Replace any NaN or empty string values with 'NA'"
      ],
      "metadata": {
        "id": "WyrVJz85c3td"
      },
      "id": "WyrVJz85c3td"
    },
    {
      "cell_type": "code",
      "execution_count": null,
      "id": "9271ed80",
      "metadata": {
        "id": "9271ed80"
      },
      "outputs": [],
      "source": [
        "for col in df_copies.select_dtypes(include='object'):\n",
        "    df_copies[col] = df_copies[col].map(lambda x: 'NA' if pd.isna(x) or x == '' else x)"
      ]
    },
    {
      "cell_type": "markdown",
      "source": [
        "Export the cleaned and expanded DataFrame to an Excel file"
      ],
      "metadata": {
        "id": "I8DmQ7tyc_p5"
      },
      "id": "I8DmQ7tyc_p5"
    },
    {
      "cell_type": "code",
      "execution_count": null,
      "id": "d275ec32",
      "metadata": {
        "id": "d275ec32",
        "colab": {
          "base_uri": "https://localhost:8080/"
        },
        "outputId": "8166eb98-86e7-408b-80ed-9d50cc5244e7"
      },
      "outputs": [
        {
          "output_type": "stream",
          "name": "stdout",
          "text": [
            "DataFrame exported to Excel file\n"
          ]
        }
      ],
      "source": [
        "df_copies.head(100000).to_excel(\"Churn_Sample_Data_Small.xlsx\", index=False)\n",
        "\n",
        "print(f'DataFrame exported to Excel file')"
      ]
    }
  ],
  "metadata": {
    "colab": {
      "provenance": []
    },
    "language_info": {
      "name": "python"
    },
    "kernelspec": {
      "name": "python3",
      "display_name": "Python 3"
    }
  },
  "nbformat": 4,
  "nbformat_minor": 5
}